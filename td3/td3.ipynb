{
 "cells": [
  {
   "cell_type": "code",
   "execution_count": 2,
   "metadata": {},
   "outputs": [],
   "source": [
    "import numpy as np\n",
    "import matplotlib.pyplot as plt\n",
    "import random\n",
    "import torch\n",
    "import torch.nn.functional as FNT\n"
   ]
  },
  {
   "cell_type": "code",
   "execution_count": 3,
   "metadata": {},
   "outputs": [],
   "source": [
    "\n",
    "\n",
    "######################################################\n",
    "#\n",
    "#  outils d'affichage -  NE PAS TOUCHER\n",
    "\n",
    "def ComputeCatPerPixel(XX,YY):\n",
    "    CategoriePerPixel = XX.copy()\n",
    "    Larg,Haut = XX.shape\n",
    "    for i in range(Larg):\n",
    "        for j in range(Haut):\n",
    "            x = XX[i][j]\n",
    "            y = YY[i][j]\n",
    "            Scores = computeSCORES(x,y)\n",
    "            CategoriePerPixel[i][j] = determineCAT(Scores)\n",
    "    return CategoriePerPixel\n",
    "\n",
    "def DessineFond():\n",
    "    iS = ComputeCatPerPixel(XXXX,YYYY)\n",
    "    levels = [-1, 0, 1, 2]\n",
    "    c1 = ('r', 'g', 'b')\n",
    "    plt.contourf(XXXX, YYYY, iS, levels, colors = c1)\n",
    "\n",
    "def DessinePoints():\n",
    "    c2 = ('darkred','darkgreen','lightblue')\n",
    "    for point in points:\n",
    "        coord = point[0]\n",
    "        cat   = point[1]\n",
    "        plt.scatter(coord[0], coord[1] ,  s=50, c=c2[cat],  marker='o')\n",
    "\n",
    "\n",
    "def determineCAT(Scores):\n",
    "    cat = 0\n",
    "    if Scores[1] > Scores[0] and Scores[1] > Scores[2] : cat = 1\n",
    "    if Scores[2] > Scores[0] and Scores[2] > Scores[1] : cat = 2\n",
    "    return cat\n",
    "\n",
    "##############################################################\n",
    "#\n",
    "#  PROJET\n",
    "\n",
    "# Chaque échantillon a 2 caractéristiques : x et y\n",
    "# Nous devons apprendre à deviner la catégorie : 0 1 ou 2 suivant ce couple (x,y)\n",
    "\n",
    "# Pour chaque catégorie i, nous avons 3 paramètrss ai, bi, ci d'apprentissage\n",
    "# Pour un couple (x,y), nous calculons un score pour chaque catégorie :\n",
    "# ScoreCat0 = a0 * x + b0 * y + c0   (équivaut à 1 neuronne)\n",
    "# ScoreCat1 = a1 * x + b1 * y + c1   (équivaut à 1 neuronne)\n",
    "# ScoreCat2 = a2 * x + b2 * y + c2   (équivaut à 1 neuronne)\n",
    "\n",
    "# Plus simplemennt :\n",
    "#         Scores = W . (x,y,1)    W représente 3 neurones, chaque neurone a 3 paramètres internes\n",
    "\n",
    "# Le plus fort score est associé à la catégorie retenue\n",
    "\n",
    "# Pour calculer l'erreur, on prend le score Sk de la vrai catégorie k de l'échantillon.\n",
    "# On calcule Err = Sigma_(j=0 à nb_cat) max(0,Sj-Sk)  avec Sj score de la cat j\n",
    "\n",
    "# Comment interpréter cette formule :\n",
    "# La grandeur Sj-Sk nous donne l'écart entre le score de la bonne catégorie et le score de la cat j.\n",
    "# Si j correspond à k, la contribution à l'erreur vaut 0, on ne tient pas compte de la valeur Sj=k dans l'erreur\n",
    "# Sinon Si cet écart est positif, ce n'est pas bon signe, car cela sous entend que le plus grand\n",
    "#          score ne correspond pas à la bonne catégorie et donc on obtient un malus.\n",
    "#          Plus le mauvais score est grand? plus le malus est important.\n",
    "#       Si cet écart est négatif, cela sous entend que le score de la bonne catégorie est supérieur\n",
    "#          au score de la catégorie courante. Tout va bien. Mais il ne faut pas que cela influence\n",
    "#          l'erreur car l'algorithme doit corriger les mauvaises prédictions. Pour cela, max(0,.)\n",
    "#          permet de ne pas tenir compte de cet écart négatif dans l'erreur.\n",
    "\n",
    "\n",
    "\n",
    "\n",
    "def computeSCORES(x,y):\n",
    "    Input = torch.FloatTensor([x,y,1])\n",
    "    Scores  = torch.matmul(Input, W) # multiplication matricielle sinon broadcasting\n",
    "    return Scores\n"
   ]
  },
  {
   "cell_type": "code",
   "execution_count": 4,
   "metadata": {},
   "outputs": [],
   "source": [
    "######################################################\n",
    "\n",
    "# (x,y, category)\n",
    "points = [ [(0.5,0.4),0],\n",
    "           [(0.8,0.3),0],\n",
    "\t\t    [(0.3,0.8),0],\n",
    "\t\t    [(-.4,0.3),1],\n",
    "\t\t    [(-.3,0.7),1],\n",
    "\t\t    [(-.7,0.2),1],\n",
    "\t\t    [(-.4,-.5),1],\n",
    "\t\t    [(0.7,-.4),2],\n",
    "\t\t    [(0.5,-.6),2]]\n",
    "\n",
    "XXXX , YYYY = np.meshgrid(np.arange(-1, 1, 0.01), np.arange(-1, 1, 0.01))\n",
    "\n",
    "W = torch.randn((3,3), requires_grad=True)"
   ]
  },
  {
   "cell_type": "code",
   "execution_count": 5,
   "metadata": {},
   "outputs": [
    {
     "data": {
      "image/png": "[encoded data removed]",
      "text/plain": [
       "<Figure size 432x288 with 1 Axes>"
      ]
     },
     "metadata": {
      "needs_background": "light"
     },
     "output_type": "display_data"
    },
    {
     "data": {
      "image/png": "[encoded data removed]",
      "text/plain": [
       "<Figure size 432x288 with 1 Axes>"
      ]
     },
     "metadata": {
      "needs_background": "light"
     },
     "output_type": "display_data"
    },
    {
     "data": {
      "image/png": "[encoded data removed]",
      "text/plain": [
       "<Figure size 432x288 with 1 Axes>"
      ]
     },
     "metadata": {
      "needs_background": "light"
     },
     "output_type": "display_data"
    },
    {
     "ename": "KeyboardInterrupt",
     "evalue": "",
     "output_type": "error",
     "traceback": [
      "\u001b[0;31m---------------------------------------------------------------------------\u001b[0m",
      "\u001b[0;31mKeyboardInterrupt\u001b[0m                         Traceback (most recent call last)",
      "\u001b[0;32m<ipython-input-5-cf3672c6a20c>\u001b[0m in \u001b[0;36m<module>\u001b[0;34m\u001b[0m\n\u001b[1;32m      5\u001b[0m \u001b[0;34m\u001b[0m\u001b[0m\n\u001b[1;32m      6\u001b[0m     \u001b[0mplt\u001b[0m\u001b[0;34m.\u001b[0m\u001b[0mtitle\u001b[0m\u001b[0;34m(\u001b[0m\u001b[0mstr\u001b[0m\u001b[0;34m(\u001b[0m\u001b[0mi\u001b[0m\u001b[0;34m)\u001b[0m\u001b[0;34m)\u001b[0m\u001b[0;34m\u001b[0m\u001b[0;34m\u001b[0m\u001b[0m\n\u001b[0;32m----> 7\u001b[0;31m     \u001b[0mplt\u001b[0m\u001b[0;34m.\u001b[0m\u001b[0mpause\u001b[0m\u001b[0;34m(\u001b[0m\u001b[0;36m2\u001b[0m\u001b[0;34m)\u001b[0m  \u001b[0;31m# pause avec duree en secondes\u001b[0m\u001b[0;34m\u001b[0m\u001b[0;34m\u001b[0m\u001b[0m\n\u001b[0m\u001b[1;32m      8\u001b[0m \u001b[0;34m\u001b[0m\u001b[0m\n\u001b[1;32m      9\u001b[0m     \u001b[0mW\u001b[0m \u001b[0;34m=\u001b[0m \u001b[0mtorch\u001b[0m\u001b[0;34m.\u001b[0m\u001b[0mrandn\u001b[0m\u001b[0;34m(\u001b[0m\u001b[0;34m(\u001b[0m\u001b[0;36m3\u001b[0m\u001b[0;34m,\u001b[0m\u001b[0;36m3\u001b[0m\u001b[0;34m)\u001b[0m\u001b[0;34m)\u001b[0m \u001b[0;31m# juste pour animer au début, cette ligne doit disparaitre\u001b[0m\u001b[0;34m\u001b[0m\u001b[0;34m\u001b[0m\u001b[0m\n",
      "\u001b[0;32m~/anaconda3/envs/env_torch/lib/python3.8/site-packages/matplotlib/pyplot.py\u001b[0m in \u001b[0;36mpause\u001b[0;34m(interval)\u001b[0m\n\u001b[1;32m    436\u001b[0m             \u001b[0mcanvas\u001b[0m\u001b[0;34m.\u001b[0m\u001b[0mdraw_idle\u001b[0m\u001b[0;34m(\u001b[0m\u001b[0;34m)\u001b[0m\u001b[0;34m\u001b[0m\u001b[0;34m\u001b[0m\u001b[0m\n\u001b[1;32m    437\u001b[0m         \u001b[0mshow\u001b[0m\u001b[0;34m(\u001b[0m\u001b[0mblock\u001b[0m\u001b[0;34m=\u001b[0m\u001b[0;32mFalse\u001b[0m\u001b[0;34m)\u001b[0m\u001b[0;34m\u001b[0m\u001b[0;34m\u001b[0m\u001b[0m\n\u001b[0;32m--> 438\u001b[0;31m         \u001b[0mcanvas\u001b[0m\u001b[0;34m.\u001b[0m\u001b[0mstart_event_loop\u001b[0m\u001b[0;34m(\u001b[0m\u001b[0minterval\u001b[0m\u001b[0;34m)\u001b[0m\u001b[0;34m\u001b[0m\u001b[0;34m\u001b[0m\u001b[0m\n\u001b[0m\u001b[1;32m    439\u001b[0m     \u001b[0;32melse\u001b[0m\u001b[0;34m:\u001b[0m\u001b[0;34m\u001b[0m\u001b[0;34m\u001b[0m\u001b[0m\n\u001b[1;32m    440\u001b[0m         \u001b[0mtime\u001b[0m\u001b[0;34m.\u001b[0m\u001b[0msleep\u001b[0m\u001b[0;34m(\u001b[0m\u001b[0minterval\u001b[0m\u001b[0;34m)\u001b[0m\u001b[0;34m\u001b[0m\u001b[0;34m\u001b[0m\u001b[0m\n",
      "\u001b[0;32m~/anaconda3/envs/env_torch/lib/python3.8/site-packages/matplotlib/backend_bases.py\u001b[0m in \u001b[0;36mstart_event_loop\u001b[0;34m(self, timeout)\u001b[0m\n\u001b[1;32m   2406\u001b[0m         \u001b[0;32mwhile\u001b[0m \u001b[0mself\u001b[0m\u001b[0;34m.\u001b[0m\u001b[0m_looping\u001b[0m \u001b[0;32mand\u001b[0m \u001b[0mcounter\u001b[0m \u001b[0;34m*\u001b[0m \u001b[0mtimestep\u001b[0m \u001b[0;34m<\u001b[0m \u001b[0mtimeout\u001b[0m\u001b[0;34m:\u001b[0m\u001b[0;34m\u001b[0m\u001b[0;34m\u001b[0m\u001b[0m\n\u001b[1;32m   2407\u001b[0m             \u001b[0mself\u001b[0m\u001b[0;34m.\u001b[0m\u001b[0mflush_events\u001b[0m\u001b[0;34m(\u001b[0m\u001b[0;34m)\u001b[0m\u001b[0;34m\u001b[0m\u001b[0;34m\u001b[0m\u001b[0m\n\u001b[0;32m-> 2408\u001b[0;31m             \u001b[0mtime\u001b[0m\u001b[0;34m.\u001b[0m\u001b[0msleep\u001b[0m\u001b[0;34m(\u001b[0m\u001b[0mtimestep\u001b[0m\u001b[0;34m)\u001b[0m\u001b[0;34m\u001b[0m\u001b[0;34m\u001b[0m\u001b[0m\n\u001b[0m\u001b[1;32m   2409\u001b[0m             \u001b[0mcounter\u001b[0m \u001b[0;34m+=\u001b[0m \u001b[0;36m1\u001b[0m\u001b[0;34m\u001b[0m\u001b[0;34m\u001b[0m\u001b[0m\n\u001b[1;32m   2410\u001b[0m \u001b[0;34m\u001b[0m\u001b[0m\n",
      "\u001b[0;31mKeyboardInterrupt\u001b[0m: "
     ]
    }
   ],
   "source": [
    "\n",
    "for i in range(20):\n",
    "\n",
    "    DessineFond()\n",
    "    DessinePoints()\n",
    "\n",
    "    plt.title(str(i))\n",
    "    plt.pause(2)  # pause avec duree en secondes\n",
    "\n",
    "    W = torch.randn((3,3)) # juste pour animer au début, cette ligne doit disparaitre\n",
    "\n",
    "plt.show()"
   ]
  },
  {
   "cell_type": "code",
   "execution_count": null,
   "metadata": {},
   "outputs": [],
   "source": []
  }
 ],
 "metadata": {
  "kernelspec": {
   "display_name": "Python 3",
   "language": "python",
   "name": "python3"
  },
  "language_info": {
   "codemirror_mode": {
    "name": "ipython",
    "version": 3
   },
   "file_extension": ".py",
   "mimetype": "text/x-python",
   "name": "python",
   "nbconvert_exporter": "python",
   "pygments_lexer": "ipython3",
   "version": "3.8.5"
  }
 },
 "nbformat": 4,
 "nbformat_minor": 4
}
