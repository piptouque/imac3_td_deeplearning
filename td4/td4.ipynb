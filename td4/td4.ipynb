{
 "cells": [
  {
   "cell_type": "code",
   "execution_count": 1,
   "metadata": {},
   "outputs": [],
   "source": [
    "import torch\n",
    "import torchvision\n",
    "import torchvision.transforms as transforms\n",
    "import matplotlib.pyplot as plt\n",
    "import numpy as np\n",
    "from PIL import Image\n",
    "import random\n",
    "import torch.nn as nn\n",
    "import torch.nn.functional as functional"
   ]
  },
  {
   "cell_type": "code",
   "execution_count": 9,
   "metadata": {},
   "outputs": [],
   "source": [
    "def LoadImages(FileName):\n",
    "    MyList = []\n",
    "    BigImage = Image.open(FileName)\n",
    "    # extraction de chaque vignette\n",
    "    for x in range(0,BigImage.size[0],32):\n",
    "        for y in range(0,BigImage.size[1],32):\n",
    "            box = (x,y,x+32,y+32)\n",
    "            Img = BigImage.crop(box)\n",
    "            #if x+y == 0 : Img.show()\n",
    "\n",
    "            # normalisation est stockage dans la liste\n",
    "            Tensor = torchvision.transforms.functional.to_tensor(Img)\n",
    "            MeanPerChannel = Tensor.mean((1,2))\n",
    "            StdPerChannel  = Tensor.std((1,2))\n",
    "            transform = transforms.Normalize(MeanPerChannel,StdPerChannel)\n",
    "            Tensor = transform(Tensor)\n",
    "            MyList.append(Tensor)\n",
    "    return MyList"
   ]
  },
  {
   "cell_type": "code",
   "execution_count": 10,
   "metadata": {},
   "outputs": [],
   "source": [
    "# creation des train and test sets\n",
    "ListCatTensors  = LoadImages(\"res/cats.jpg\")\n",
    "ListDogTensors  = LoadImages(\"res/dogs.jpg\")"
   ]
  },
  {
   "cell_type": "code",
   "execution_count": 29,
   "metadata": {},
   "outputs": [],
   "source": [
    "# création du reseau\n",
    "\n",
    "# tenseur des images : [ numéro, channels, LARG, HAUT ]\n",
    "# param de la couche  CONV   : Conv2d(nb channels en entrée, nb de neurones, taille du kernel)\n",
    "\n",
    "conv_A = nn.Conv2d(3, 6, 5)\n",
    "pool   = nn.MaxPool2d(2)\n",
    "conv_B = nn.Conv2d(6, 8, 5)\n",
    "fc_A   = nn.Linear(8 * 5 * 5, 120)\n",
    "fc_B   = nn.Linear(120, 84)\n",
    "fc_C   = nn.Linear(84, 2)\n",
    "\n"
   ]
  },
  {
   "cell_type": "code",
   "execution_count": 12,
   "metadata": {},
   "outputs": [],
   "source": [
    "def forward(x):\n",
    " \n",
    "    print (\"X        : \",x.shape)\n",
    "    x = conv_A(x)\n",
    "    print (\"CONV2D_A : \",x.shape)\n",
    "    x = functional.relu(x)\n",
    "    print (\"RELU     : \",x.shape)\n",
    "    x = pool(x)\n",
    "    print (\"POOL     : \",x.shape)\n",
    "    x = conv_B(x)\n",
    "    print (\"CONV2D_B : \",x.shape)\n",
    "    x = functional.relu(x)\n",
    "    print (\"RELU     : \",x.shape)\n",
    "    x = pool(x)\n",
    "    print (\"POOL     : \",x.shape)\n",
    "    x = x.view(-1, 8 * 5 * 5)\n",
    "    print (\"VIEW     : \",x.shape)\n",
    "    x = fc_A(x)\n",
    "    print (\"FC_A     : \",x.shape)\n",
    "    x = functional.relu(x)\n",
    "    print (\"RELU     : \",x.shape)\n",
    "    x = fc_B(x)\n",
    "    print (\"FC_B     : \",x.shape)\n",
    "    x = functional.relu(x)\n",
    "    print (\"RELU     : \",x.shape)\n",
    "    x = fc_C(x)\n",
    "    print (\"FC_C     : \",x.shape)\n",
    "    return x"
   ]
  },
  {
   "cell_type": "code",
   "execution_count": 30,
   "metadata": {
    "scrolled": true
   },
   "outputs": [
    {
     "name": "stdout",
     "output_type": "stream",
     "text": [
      "torch.Size([6, 3, 5, 5])\n",
      "torch.Size([120, 200])\n",
      "X        :  torch.Size([1000, 3, 32, 32])\n",
      "CONV2D_A :  torch.Size([1000, 6, 28, 28])\n",
      "RELU     :  torch.Size([1000, 6, 28, 28])\n",
      "POOL     :  torch.Size([1000, 6, 14, 14])\n",
      "CONV2D_B :  torch.Size([1000, 8, 10, 10])\n",
      "RELU     :  torch.Size([1000, 8, 10, 10])\n",
      "POOL     :  torch.Size([1000, 8, 5, 5])\n",
      "VIEW     :  torch.Size([1000, 200])\n",
      "FC_A     :  torch.Size([1000, 120])\n",
      "RELU     :  torch.Size([1000, 120])\n",
      "FC_B     :  torch.Size([1000, 84])\n",
      "RELU     :  torch.Size([1000, 84])\n",
      "FC_C     :  torch.Size([1000, 2])\n"
     ]
    },
    {
     "data": {
      "text/plain": [
       "tensor([[-0.0418, -0.0969],\n",
       "        [-0.0339, -0.0928],\n",
       "        [-0.0212, -0.0936],\n",
       "        ...,\n",
       "        [-0.0298, -0.0824],\n",
       "        [-0.0206, -0.0969],\n",
       "        [-0.0471, -0.0882]], grad_fn=<AddmmBackward>)"
      ]
     },
     "execution_count": 30,
     "metadata": {},
     "output_type": "execute_result"
    }
   ],
   "source": [
    "random.shuffle(ListCatTensors)\n",
    "random.shuffle(ListDogTensors)\n",
    "\n",
    "CatTrain = torch.stack(ListCatTensors[:5000])\n",
    "CatTest  = torch.stack(ListCatTensors[5000:])\n",
    "\n",
    "DogTrain = torch.stack( ListDogTensors[:5000] )\n",
    "DogTest  = torch.stack( ListDogTensors[5000:] )\n",
    "\n",
    "print(conv_A.weight.size())\n",
    "print(fc_A.weight.size())\n",
    "\n",
    "\n",
    "\n",
    "forward(DogTest)"
   ]
  },
  {
   "cell_type": "markdown",
   "metadata": {},
   "source": [
    "Questions:\n",
    "\n",
    "1. La couche Conv2DA produit un tenseur de taille : (6,28,28), pourquoi ?\n",
    "\n",
    "    * Une entrée la couche Conv2DA est de taille $(3, 32, 32)$. La convolution est de noyau de taille $(5, 5)$, d'où $(32 - 5 + 1, 32 - 5 + 1) = (28, 28)$ pour une seule chaîne. On fixe le nombre de neurones à six six, qui est aussi le nombre de chaînes de sortie.\n",
    "\n",
    "2. Relu ne modifie pas la taille du tenseur, pourquoi ?\n",
    "\n",
    "    * La fonction ReLU est une fonction d'activation a pour but de rompre la linéarité entre couches pour éviter de factoriser le réseau en une seule multiplication matricielle, et ainsi conserver la complexité du réseau.Elle permet donc de faire suivre deux couches de mêmes dimensions.\n",
    "\n",
    "3. Conv2D_B donne une taille 8x10x10, est-ce bien le résultat attendu ?\n",
    "\n",
    "    * Cette fois la taille d'entrée est de $(6, 14, 14)$. Un noyau de taille $(5, 5)$ donne $(10, 10)$ pour une chaîne. La couche fait passer de six à huit chaînes, comme il était spécifié lors de la construction.\n",
    "\n",
    "4. Quel est le nombre de poids de chaque couche ? (utilisez la propriété weight du tenseur)\n",
    "\n",
    "5. Quel est la couche contenant le plus de poids ?\n",
    "\n",
    "6. N'ayant que 5000 images en entrée, il faut éviter le surapprentissage, pour cela :\n",
    "    a) supprimez la couche contenant le plus de poids\n",
    "    b) divisez ~ par 2 le nombre de poids présents sur l'ensemble des couches FC¶\n",
    "   \n",
    "7. En début d'apprentissage, votre taux de réussite devrait etre proche de 50%, pourquoi ?\n",
    "\n",
    "     * Les points sont initialisés avec des valeurs aléatoire, le modèle classifie donc en moyenne au hasard et n'a aucun intérêt tel quel (dans ce cas particulier d'une classification binaire, il serait plus utile d'avoir un taux de réussite proche de %0, il suffirait alors de prendre l'autre catégorie !)\n"
   ]
  },
  {
   "cell_type": "code",
   "execution_count": null,
   "metadata": {},
   "outputs": [],
   "source": [
    "Développement :\n",
    "    \n",
    "    1. Ecrivez la passe forward pour les chats et les chiens\n",
    "    2. Ecrivez la fonction calculant le LOSS total (vu en cours)\n",
    "    3. Déclenchez la backpropagation\n",
    "    4. Modifiez les poids de chaque couche (gradient)\n",
    "\n",
    "    5. Ecrivez une fonction test() qui calcule les prédictions sur les échantillons de tests\n",
    "        appel : les échantillons de tests ne doivent jamais etre utilisés pour le training\n",
    "    6. Calculez ensuite le % de réussite de votre réseau sur cet échantillon\n",
    "\n",
    "\n",
    "# Si les itérations sont trop lentes, vous pouvez calculer une estimation du gradient en utilisant\n",
    "#    seulement 50 à 200 images prises au hasard dans le set de Train à chaque itération. Attention,\n",
    "#    il faut dans tous les cas, prendre autant de chats que de chiens. De la recherche en ligne\n",
    "#    sera surement necessaire\n",
    "\n",
    "    7. Testez différentes valeurs pour le pas\n",
    "\n",
    "# Affichez à chaque itération le loss ainsi que le taux de réussite"
   ]
  }
 ],
 "metadata": {
  "kernelspec": {
   "display_name": "Python 3",
   "language": "python",
   "name": "python3"
  },
  "language_info": {
   "codemirror_mode": {
    "name": "ipython",
    "version": 3
   },
   "file_extension": ".py",
   "mimetype": "text/x-python",
   "name": "python",
   "nbconvert_exporter": "python",
   "pygments_lexer": "ipython3",
   "version": "3.8.5"
  }
 },
 "nbformat": 4,
 "nbformat_minor": 4
}
